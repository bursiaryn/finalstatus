{
  "cells": [
    {
      "cell_type": "code",
      "execution_count": 4,
      "metadata": {
        "id": "BlILaNtXdaes"
      },
      "outputs": [],
      "source": [
        "import numpy as np # linear algebra\n",
        "import pandas as pd # data processing, CSV file I/O (e.g. pd.read_csv)\n",
        "import seaborn as sns\n",
        "import matplotlib.pyplot as plt"
      ]
    },
    {
      "cell_type": "code",
      "execution_count": 5,
      "metadata": {},
      "outputs": [
        {
          "name": "stdout",
          "output_type": "stream",
          "text": [
            "Requirement already satisfied: seaborn in c:\\users\\rosyi\\anaconda3\\envs\\dateng\\lib\\site-packages (0.13.2)\n",
            "Requirement already satisfied: numpy!=1.24.0,>=1.20 in c:\\users\\rosyi\\anaconda3\\envs\\dateng\\lib\\site-packages (from seaborn) (1.26.4)\n",
            "Requirement already satisfied: pandas>=1.2 in c:\\users\\rosyi\\anaconda3\\envs\\dateng\\lib\\site-packages (from seaborn) (2.2.2)\n",
            "Requirement already satisfied: matplotlib!=3.6.1,>=3.4 in c:\\users\\rosyi\\anaconda3\\envs\\dateng\\lib\\site-packages (from seaborn) (3.8.4)\n",
            "Requirement already satisfied: contourpy>=1.0.1 in c:\\users\\rosyi\\anaconda3\\envs\\dateng\\lib\\site-packages (from matplotlib!=3.6.1,>=3.4->seaborn) (1.2.0)\n",
            "Requirement already satisfied: cycler>=0.10 in c:\\users\\rosyi\\anaconda3\\envs\\dateng\\lib\\site-packages (from matplotlib!=3.6.1,>=3.4->seaborn) (0.11.0)\n",
            "Requirement already satisfied: fonttools>=4.22.0 in c:\\users\\rosyi\\anaconda3\\envs\\dateng\\lib\\site-packages (from matplotlib!=3.6.1,>=3.4->seaborn) (4.51.0)\n",
            "Requirement already satisfied: kiwisolver>=1.3.1 in c:\\users\\rosyi\\anaconda3\\envs\\dateng\\lib\\site-packages (from matplotlib!=3.6.1,>=3.4->seaborn) (1.4.4)\n",
            "Requirement already satisfied: packaging>=20.0 in c:\\users\\rosyi\\anaconda3\\envs\\dateng\\lib\\site-packages (from matplotlib!=3.6.1,>=3.4->seaborn) (24.1)\n",
            "Requirement already satisfied: pillow>=8 in c:\\users\\rosyi\\anaconda3\\envs\\dateng\\lib\\site-packages (from matplotlib!=3.6.1,>=3.4->seaborn) (10.4.0)\n",
            "Requirement already satisfied: pyparsing>=2.3.1 in c:\\users\\rosyi\\anaconda3\\envs\\dateng\\lib\\site-packages (from matplotlib!=3.6.1,>=3.4->seaborn) (3.0.9)\n",
            "Requirement already satisfied: python-dateutil>=2.7 in c:\\users\\rosyi\\anaconda3\\envs\\dateng\\lib\\site-packages (from matplotlib!=3.6.1,>=3.4->seaborn) (2.9.0.post0)\n",
            "Requirement already satisfied: pytz>=2020.1 in c:\\users\\rosyi\\anaconda3\\envs\\dateng\\lib\\site-packages (from pandas>=1.2->seaborn) (2024.1)\n",
            "Requirement already satisfied: tzdata>=2022.7 in c:\\users\\rosyi\\anaconda3\\envs\\dateng\\lib\\site-packages (from pandas>=1.2->seaborn) (2023.3)\n",
            "Requirement already satisfied: six>=1.5 in c:\\users\\rosyi\\anaconda3\\envs\\dateng\\lib\\site-packages (from python-dateutil>=2.7->matplotlib!=3.6.1,>=3.4->seaborn) (1.16.0)\n"
          ]
        }
      ],
      "source": [
        "!pip install seaborn"
      ]
    },
    {
      "cell_type": "code",
      "execution_count": 6,
      "metadata": {
        "id": "S23JXTdSeCvQ"
      },
      "outputs": [],
      "source": [
        "import os"
      ]
    },
    {
      "cell_type": "code",
      "execution_count": 7,
      "metadata": {
        "id": "ug2DI2nZeE4n"
      },
      "outputs": [],
      "source": [
        "data = pd.read_csv('Churn_Modelling.csv')"
      ]
    },
    {
      "cell_type": "markdown",
      "metadata": {
        "id": "mQPToNmCeqae"
      },
      "source": [
        "EDA"
      ]
    },
    {
      "cell_type": "code",
      "execution_count": 8,
      "metadata": {
        "colab": {
          "base_uri": "https://localhost:8080/",
          "height": 226
        },
        "id": "Cs55kVvWeJHS",
        "outputId": "037260cf-6a78-4d88-b337-5b4c31cba726"
      },
      "outputs": [
        {
          "data": {
            "text/html": [
              "<div>\n",
              "<style scoped>\n",
              "    .dataframe tbody tr th:only-of-type {\n",
              "        vertical-align: middle;\n",
              "    }\n",
              "\n",
              "    .dataframe tbody tr th {\n",
              "        vertical-align: top;\n",
              "    }\n",
              "\n",
              "    .dataframe thead th {\n",
              "        text-align: right;\n",
              "    }\n",
              "</style>\n",
              "<table border=\"1\" class=\"dataframe\">\n",
              "  <thead>\n",
              "    <tr style=\"text-align: right;\">\n",
              "      <th></th>\n",
              "      <th>RowNumber</th>\n",
              "      <th>CustomerId</th>\n",
              "      <th>Surname</th>\n",
              "      <th>CreditScore</th>\n",
              "      <th>Geography</th>\n",
              "      <th>Gender</th>\n",
              "      <th>Age</th>\n",
              "      <th>Tenure</th>\n",
              "      <th>Balance</th>\n",
              "      <th>NumOfProducts</th>\n",
              "      <th>HasCrCard</th>\n",
              "      <th>IsActiveMember</th>\n",
              "      <th>EstimatedSalary</th>\n",
              "      <th>Exited</th>\n",
              "    </tr>\n",
              "  </thead>\n",
              "  <tbody>\n",
              "    <tr>\n",
              "      <th>0</th>\n",
              "      <td>1</td>\n",
              "      <td>15634602</td>\n",
              "      <td>Hargrave</td>\n",
              "      <td>619</td>\n",
              "      <td>France</td>\n",
              "      <td>Female</td>\n",
              "      <td>42</td>\n",
              "      <td>2</td>\n",
              "      <td>0.00</td>\n",
              "      <td>1</td>\n",
              "      <td>1</td>\n",
              "      <td>1</td>\n",
              "      <td>101348.88</td>\n",
              "      <td>1</td>\n",
              "    </tr>\n",
              "    <tr>\n",
              "      <th>1</th>\n",
              "      <td>2</td>\n",
              "      <td>15647311</td>\n",
              "      <td>Hill</td>\n",
              "      <td>608</td>\n",
              "      <td>Spain</td>\n",
              "      <td>Female</td>\n",
              "      <td>41</td>\n",
              "      <td>1</td>\n",
              "      <td>83807.86</td>\n",
              "      <td>1</td>\n",
              "      <td>0</td>\n",
              "      <td>1</td>\n",
              "      <td>112542.58</td>\n",
              "      <td>0</td>\n",
              "    </tr>\n",
              "    <tr>\n",
              "      <th>2</th>\n",
              "      <td>3</td>\n",
              "      <td>15619304</td>\n",
              "      <td>Onio</td>\n",
              "      <td>502</td>\n",
              "      <td>France</td>\n",
              "      <td>Female</td>\n",
              "      <td>42</td>\n",
              "      <td>8</td>\n",
              "      <td>159660.80</td>\n",
              "      <td>3</td>\n",
              "      <td>1</td>\n",
              "      <td>0</td>\n",
              "      <td>113931.57</td>\n",
              "      <td>1</td>\n",
              "    </tr>\n",
              "    <tr>\n",
              "      <th>3</th>\n",
              "      <td>4</td>\n",
              "      <td>15701354</td>\n",
              "      <td>Boni</td>\n",
              "      <td>699</td>\n",
              "      <td>France</td>\n",
              "      <td>Female</td>\n",
              "      <td>39</td>\n",
              "      <td>1</td>\n",
              "      <td>0.00</td>\n",
              "      <td>2</td>\n",
              "      <td>0</td>\n",
              "      <td>0</td>\n",
              "      <td>93826.63</td>\n",
              "      <td>0</td>\n",
              "    </tr>\n",
              "    <tr>\n",
              "      <th>4</th>\n",
              "      <td>5</td>\n",
              "      <td>15737888</td>\n",
              "      <td>Mitchell</td>\n",
              "      <td>850</td>\n",
              "      <td>Spain</td>\n",
              "      <td>Female</td>\n",
              "      <td>43</td>\n",
              "      <td>2</td>\n",
              "      <td>125510.82</td>\n",
              "      <td>1</td>\n",
              "      <td>1</td>\n",
              "      <td>1</td>\n",
              "      <td>79084.10</td>\n",
              "      <td>0</td>\n",
              "    </tr>\n",
              "  </tbody>\n",
              "</table>\n",
              "</div>"
            ],
            "text/plain": [
              "   RowNumber  CustomerId   Surname  CreditScore Geography  Gender  Age  \\\n",
              "0          1    15634602  Hargrave          619    France  Female   42   \n",
              "1          2    15647311      Hill          608     Spain  Female   41   \n",
              "2          3    15619304      Onio          502    France  Female   42   \n",
              "3          4    15701354      Boni          699    France  Female   39   \n",
              "4          5    15737888  Mitchell          850     Spain  Female   43   \n",
              "\n",
              "   Tenure    Balance  NumOfProducts  HasCrCard  IsActiveMember  \\\n",
              "0       2       0.00              1          1               1   \n",
              "1       1   83807.86              1          0               1   \n",
              "2       8  159660.80              3          1               0   \n",
              "3       1       0.00              2          0               0   \n",
              "4       2  125510.82              1          1               1   \n",
              "\n",
              "   EstimatedSalary  Exited  \n",
              "0        101348.88       1  \n",
              "1        112542.58       0  \n",
              "2        113931.57       1  \n",
              "3         93826.63       0  \n",
              "4         79084.10       0  "
            ]
          },
          "execution_count": 8,
          "metadata": {},
          "output_type": "execute_result"
        }
      ],
      "source": [
        "data.head()"
      ]
    },
    {
      "cell_type": "code",
      "execution_count": 9,
      "metadata": {
        "colab": {
          "base_uri": "https://localhost:8080/"
        },
        "id": "aNcPPFw8eMb2",
        "outputId": "8f7a54b8-48eb-4736-b989-8489d79180ce"
      },
      "outputs": [
        {
          "name": "stdout",
          "output_type": "stream",
          "text": [
            "<class 'pandas.core.frame.DataFrame'>\n",
            "RangeIndex: 10000 entries, 0 to 9999\n",
            "Data columns (total 14 columns):\n",
            " #   Column           Non-Null Count  Dtype  \n",
            "---  ------           --------------  -----  \n",
            " 0   RowNumber        10000 non-null  int64  \n",
            " 1   CustomerId       10000 non-null  int64  \n",
            " 2   Surname          10000 non-null  object \n",
            " 3   CreditScore      10000 non-null  int64  \n",
            " 4   Geography        10000 non-null  object \n",
            " 5   Gender           10000 non-null  object \n",
            " 6   Age              10000 non-null  int64  \n",
            " 7   Tenure           10000 non-null  int64  \n",
            " 8   Balance          10000 non-null  float64\n",
            " 9   NumOfProducts    10000 non-null  int64  \n",
            " 10  HasCrCard        10000 non-null  int64  \n",
            " 11  IsActiveMember   10000 non-null  int64  \n",
            " 12  EstimatedSalary  10000 non-null  float64\n",
            " 13  Exited           10000 non-null  int64  \n",
            "dtypes: float64(2), int64(9), object(3)\n",
            "memory usage: 1.1+ MB\n"
          ]
        }
      ],
      "source": [
        "data.info()"
      ]
    },
    {
      "cell_type": "code",
      "execution_count": 10,
      "metadata": {
        "id": "YEIFukgOePAG"
      },
      "outputs": [],
      "source": [
        "data.drop(['RowNumber', 'CustomerId', 'Surname', 'Geography'], axis=1, inplace=True)"
      ]
    },
    {
      "cell_type": "code",
      "execution_count": 11,
      "metadata": {
        "id": "orKo6t2NeQ2Y"
      },
      "outputs": [],
      "source": [
        "data.Gender = [1 if each == 'Male' else 0 for each in data.Gender]"
      ]
    },
    {
      "cell_type": "code",
      "execution_count": 12,
      "metadata": {
        "colab": {
          "base_uri": "https://localhost:8080/",
          "height": 206
        },
        "id": "8HQCubq3eShI",
        "outputId": "7a9b3d36-9ea2-4e8c-9164-dd30eb591bfe"
      },
      "outputs": [
        {
          "data": {
            "text/html": [
              "<div>\n",
              "<style scoped>\n",
              "    .dataframe tbody tr th:only-of-type {\n",
              "        vertical-align: middle;\n",
              "    }\n",
              "\n",
              "    .dataframe tbody tr th {\n",
              "        vertical-align: top;\n",
              "    }\n",
              "\n",
              "    .dataframe thead th {\n",
              "        text-align: right;\n",
              "    }\n",
              "</style>\n",
              "<table border=\"1\" class=\"dataframe\">\n",
              "  <thead>\n",
              "    <tr style=\"text-align: right;\">\n",
              "      <th></th>\n",
              "      <th>CreditScore</th>\n",
              "      <th>Gender</th>\n",
              "      <th>Age</th>\n",
              "      <th>Tenure</th>\n",
              "      <th>Balance</th>\n",
              "      <th>NumOfProducts</th>\n",
              "      <th>HasCrCard</th>\n",
              "      <th>IsActiveMember</th>\n",
              "      <th>EstimatedSalary</th>\n",
              "      <th>Exited</th>\n",
              "    </tr>\n",
              "  </thead>\n",
              "  <tbody>\n",
              "    <tr>\n",
              "      <th>1891</th>\n",
              "      <td>584</td>\n",
              "      <td>0</td>\n",
              "      <td>37</td>\n",
              "      <td>1</td>\n",
              "      <td>0.00</td>\n",
              "      <td>2</td>\n",
              "      <td>1</td>\n",
              "      <td>1</td>\n",
              "      <td>180363.56</td>\n",
              "      <td>0</td>\n",
              "    </tr>\n",
              "    <tr>\n",
              "      <th>3488</th>\n",
              "      <td>587</td>\n",
              "      <td>0</td>\n",
              "      <td>35</td>\n",
              "      <td>3</td>\n",
              "      <td>83286.56</td>\n",
              "      <td>1</td>\n",
              "      <td>1</td>\n",
              "      <td>0</td>\n",
              "      <td>125553.52</td>\n",
              "      <td>0</td>\n",
              "    </tr>\n",
              "    <tr>\n",
              "      <th>5958</th>\n",
              "      <td>540</td>\n",
              "      <td>0</td>\n",
              "      <td>40</td>\n",
              "      <td>3</td>\n",
              "      <td>165298.12</td>\n",
              "      <td>1</td>\n",
              "      <td>0</td>\n",
              "      <td>1</td>\n",
              "      <td>199862.75</td>\n",
              "      <td>0</td>\n",
              "    </tr>\n",
              "    <tr>\n",
              "      <th>7513</th>\n",
              "      <td>718</td>\n",
              "      <td>1</td>\n",
              "      <td>29</td>\n",
              "      <td>2</td>\n",
              "      <td>0.00</td>\n",
              "      <td>1</td>\n",
              "      <td>1</td>\n",
              "      <td>0</td>\n",
              "      <td>126336.72</td>\n",
              "      <td>0</td>\n",
              "    </tr>\n",
              "    <tr>\n",
              "      <th>7509</th>\n",
              "      <td>545</td>\n",
              "      <td>1</td>\n",
              "      <td>37</td>\n",
              "      <td>9</td>\n",
              "      <td>95829.13</td>\n",
              "      <td>2</td>\n",
              "      <td>0</td>\n",
              "      <td>1</td>\n",
              "      <td>104936.88</td>\n",
              "      <td>0</td>\n",
              "    </tr>\n",
              "  </tbody>\n",
              "</table>\n",
              "</div>"
            ],
            "text/plain": [
              "      CreditScore  Gender  Age  Tenure    Balance  NumOfProducts  HasCrCard  \\\n",
              "1891          584       0   37       1       0.00              2          1   \n",
              "3488          587       0   35       3   83286.56              1          1   \n",
              "5958          540       0   40       3  165298.12              1          0   \n",
              "7513          718       1   29       2       0.00              1          1   \n",
              "7509          545       1   37       9   95829.13              2          0   \n",
              "\n",
              "      IsActiveMember  EstimatedSalary  Exited  \n",
              "1891               1        180363.56       0  \n",
              "3488               0        125553.52       0  \n",
              "5958               1        199862.75       0  \n",
              "7513               0        126336.72       0  \n",
              "7509               1        104936.88       0  "
            ]
          },
          "execution_count": 12,
          "metadata": {},
          "output_type": "execute_result"
        }
      ],
      "source": [
        "data.sample(5)"
      ]
    },
    {
      "cell_type": "code",
      "execution_count": null,
      "metadata": {
        "colab": {
          "base_uri": "https://localhost:8080/",
          "height": 656
        },
        "collapsed": true,
        "id": "h3imi53WeZsC",
        "outputId": "02613846-a9af-4846-dc8c-2a967d6e1507"
      },
      "outputs": [],
      "source": []
    },
    {
      "cell_type": "markdown",
      "metadata": {
        "id": "1rVkabzFerxU"
      },
      "source": [
        "SEPARATING FEATURES AND TARGET"
      ]
    },
    {
      "cell_type": "code",
      "execution_count": 13,
      "metadata": {
        "id": "Nu1Rbtzxexoa"
      },
      "outputs": [],
      "source": [
        "y = data.Exited.values\n",
        "x_data = data.drop(['Exited'], axis=1)"
      ]
    },
    {
      "cell_type": "code",
      "execution_count": 14,
      "metadata": {
        "colab": {
          "base_uri": "https://localhost:8080/",
          "height": 206
        },
        "id": "C1MukUAofYdN",
        "outputId": "7de606c4-eb34-4902-9240-0eb3e4a2b814"
      },
      "outputs": [
        {
          "data": {
            "text/html": [
              "<div>\n",
              "<style scoped>\n",
              "    .dataframe tbody tr th:only-of-type {\n",
              "        vertical-align: middle;\n",
              "    }\n",
              "\n",
              "    .dataframe tbody tr th {\n",
              "        vertical-align: top;\n",
              "    }\n",
              "\n",
              "    .dataframe thead th {\n",
              "        text-align: right;\n",
              "    }\n",
              "</style>\n",
              "<table border=\"1\" class=\"dataframe\">\n",
              "  <thead>\n",
              "    <tr style=\"text-align: right;\">\n",
              "      <th></th>\n",
              "      <th>CreditScore</th>\n",
              "      <th>Gender</th>\n",
              "      <th>Age</th>\n",
              "      <th>Tenure</th>\n",
              "      <th>Balance</th>\n",
              "      <th>NumOfProducts</th>\n",
              "      <th>HasCrCard</th>\n",
              "      <th>IsActiveMember</th>\n",
              "      <th>EstimatedSalary</th>\n",
              "    </tr>\n",
              "  </thead>\n",
              "  <tbody>\n",
              "    <tr>\n",
              "      <th>1966</th>\n",
              "      <td>681</td>\n",
              "      <td>0</td>\n",
              "      <td>48</td>\n",
              "      <td>8</td>\n",
              "      <td>139480.18</td>\n",
              "      <td>1</td>\n",
              "      <td>1</td>\n",
              "      <td>1</td>\n",
              "      <td>163581.67</td>\n",
              "    </tr>\n",
              "    <tr>\n",
              "      <th>1260</th>\n",
              "      <td>704</td>\n",
              "      <td>1</td>\n",
              "      <td>27</td>\n",
              "      <td>5</td>\n",
              "      <td>147004.34</td>\n",
              "      <td>1</td>\n",
              "      <td>1</td>\n",
              "      <td>0</td>\n",
              "      <td>64381.33</td>\n",
              "    </tr>\n",
              "    <tr>\n",
              "      <th>2617</th>\n",
              "      <td>692</td>\n",
              "      <td>1</td>\n",
              "      <td>45</td>\n",
              "      <td>6</td>\n",
              "      <td>152296.83</td>\n",
              "      <td>4</td>\n",
              "      <td>0</td>\n",
              "      <td>1</td>\n",
              "      <td>108040.86</td>\n",
              "    </tr>\n",
              "    <tr>\n",
              "      <th>8076</th>\n",
              "      <td>732</td>\n",
              "      <td>0</td>\n",
              "      <td>36</td>\n",
              "      <td>9</td>\n",
              "      <td>0.00</td>\n",
              "      <td>1</td>\n",
              "      <td>0</td>\n",
              "      <td>0</td>\n",
              "      <td>3749.00</td>\n",
              "    </tr>\n",
              "    <tr>\n",
              "      <th>3211</th>\n",
              "      <td>686</td>\n",
              "      <td>0</td>\n",
              "      <td>27</td>\n",
              "      <td>1</td>\n",
              "      <td>115095.88</td>\n",
              "      <td>2</td>\n",
              "      <td>0</td>\n",
              "      <td>0</td>\n",
              "      <td>78622.46</td>\n",
              "    </tr>\n",
              "  </tbody>\n",
              "</table>\n",
              "</div>"
            ],
            "text/plain": [
              "      CreditScore  Gender  Age  Tenure    Balance  NumOfProducts  HasCrCard  \\\n",
              "1966          681       0   48       8  139480.18              1          1   \n",
              "1260          704       1   27       5  147004.34              1          1   \n",
              "2617          692       1   45       6  152296.83              4          0   \n",
              "8076          732       0   36       9       0.00              1          0   \n",
              "3211          686       0   27       1  115095.88              2          0   \n",
              "\n",
              "      IsActiveMember  EstimatedSalary  \n",
              "1966               1        163581.67  \n",
              "1260               0         64381.33  \n",
              "2617               1        108040.86  \n",
              "8076               0          3749.00  \n",
              "3211               0         78622.46  "
            ]
          },
          "execution_count": 14,
          "metadata": {},
          "output_type": "execute_result"
        }
      ],
      "source": [
        "x_data.sample(5)"
      ]
    },
    {
      "cell_type": "code",
      "execution_count": 15,
      "metadata": {
        "colab": {
          "base_uri": "https://localhost:8080/",
          "height": 206
        },
        "id": "obmq4O_8fcpB",
        "outputId": "2550f7ae-dc12-4773-fea2-d65aab180a64"
      },
      "outputs": [
        {
          "data": {
            "text/html": [
              "<div>\n",
              "<style scoped>\n",
              "    .dataframe tbody tr th:only-of-type {\n",
              "        vertical-align: middle;\n",
              "    }\n",
              "\n",
              "    .dataframe tbody tr th {\n",
              "        vertical-align: top;\n",
              "    }\n",
              "\n",
              "    .dataframe thead th {\n",
              "        text-align: right;\n",
              "    }\n",
              "</style>\n",
              "<table border=\"1\" class=\"dataframe\">\n",
              "  <thead>\n",
              "    <tr style=\"text-align: right;\">\n",
              "      <th></th>\n",
              "      <th>CreditScore</th>\n",
              "      <th>Gender</th>\n",
              "      <th>Age</th>\n",
              "      <th>Tenure</th>\n",
              "      <th>Balance</th>\n",
              "      <th>NumOfProducts</th>\n",
              "      <th>HasCrCard</th>\n",
              "      <th>IsActiveMember</th>\n",
              "      <th>EstimatedSalary</th>\n",
              "    </tr>\n",
              "  </thead>\n",
              "  <tbody>\n",
              "    <tr>\n",
              "      <th>0</th>\n",
              "      <td>0.002467</td>\n",
              "      <td>0.0</td>\n",
              "      <td>0.000167</td>\n",
              "      <td>0.000008</td>\n",
              "      <td>0.000000</td>\n",
              "      <td>0.000004</td>\n",
              "      <td>0.000004</td>\n",
              "      <td>0.000004</td>\n",
              "      <td>0.403944</td>\n",
              "    </tr>\n",
              "    <tr>\n",
              "      <th>1</th>\n",
              "      <td>0.002423</td>\n",
              "      <td>0.0</td>\n",
              "      <td>0.000163</td>\n",
              "      <td>0.000004</td>\n",
              "      <td>0.334031</td>\n",
              "      <td>0.000004</td>\n",
              "      <td>0.000000</td>\n",
              "      <td>0.000004</td>\n",
              "      <td>0.448559</td>\n",
              "    </tr>\n",
              "    <tr>\n",
              "      <th>2</th>\n",
              "      <td>0.002001</td>\n",
              "      <td>0.0</td>\n",
              "      <td>0.000167</td>\n",
              "      <td>0.000032</td>\n",
              "      <td>0.636357</td>\n",
              "      <td>0.000012</td>\n",
              "      <td>0.000004</td>\n",
              "      <td>0.000000</td>\n",
              "      <td>0.454095</td>\n",
              "    </tr>\n",
              "    <tr>\n",
              "      <th>3</th>\n",
              "      <td>0.002786</td>\n",
              "      <td>0.0</td>\n",
              "      <td>0.000155</td>\n",
              "      <td>0.000004</td>\n",
              "      <td>0.000000</td>\n",
              "      <td>0.000008</td>\n",
              "      <td>0.000000</td>\n",
              "      <td>0.000000</td>\n",
              "      <td>0.373963</td>\n",
              "    </tr>\n",
              "    <tr>\n",
              "      <th>4</th>\n",
              "      <td>0.003388</td>\n",
              "      <td>0.0</td>\n",
              "      <td>0.000171</td>\n",
              "      <td>0.000008</td>\n",
              "      <td>0.500246</td>\n",
              "      <td>0.000004</td>\n",
              "      <td>0.000004</td>\n",
              "      <td>0.000004</td>\n",
              "      <td>0.315204</td>\n",
              "    </tr>\n",
              "  </tbody>\n",
              "</table>\n",
              "</div>"
            ],
            "text/plain": [
              "   CreditScore  Gender       Age    Tenure   Balance  NumOfProducts  \\\n",
              "0     0.002467     0.0  0.000167  0.000008  0.000000       0.000004   \n",
              "1     0.002423     0.0  0.000163  0.000004  0.334031       0.000004   \n",
              "2     0.002001     0.0  0.000167  0.000032  0.636357       0.000012   \n",
              "3     0.002786     0.0  0.000155  0.000004  0.000000       0.000008   \n",
              "4     0.003388     0.0  0.000171  0.000008  0.500246       0.000004   \n",
              "\n",
              "   HasCrCard  IsActiveMember  EstimatedSalary  \n",
              "0   0.000004        0.000004         0.403944  \n",
              "1   0.000000        0.000004         0.448559  \n",
              "2   0.000004        0.000000         0.454095  \n",
              "3   0.000000        0.000000         0.373963  \n",
              "4   0.000004        0.000004         0.315204  "
            ]
          },
          "execution_count": 15,
          "metadata": {},
          "output_type": "execute_result"
        }
      ],
      "source": [
        "x = (x_data - np.min(x_data)) / (np.max(x_data)-np.min(x_data))\n",
        "x.head()"
      ]
    },
    {
      "cell_type": "markdown",
      "metadata": {
        "id": "wlvCVg6ghPyD"
      },
      "source": [
        "SPLIT TRAIN TEST"
      ]
    },
    {
      "cell_type": "code",
      "execution_count": 16,
      "metadata": {
        "id": "Et_TqXeifhNq"
      },
      "outputs": [],
      "source": [
        "from sklearn.model_selection import train_test_split\n",
        "\n",
        "x_train, x_test, y_train, y_test = train_test_split(x, y, test_size=0.10, random_state=7)"
      ]
    },
    {
      "cell_type": "code",
      "execution_count": 17,
      "metadata": {
        "id": "MAqRPJ0vfj7C"
      },
      "outputs": [
        {
          "name": "stdout",
          "output_type": "stream",
          "text": [
            "x_train shape:  (9000, 9)\n",
            "y_train shape:  (9000,)\n",
            "x_test shape:  (1000, 9)\n",
            "y_test shape:  (1000,)\n"
          ]
        }
      ],
      "source": [
        "print('x_train shape: ', x_train.shape)\n",
        "print('y_train shape: ', y_train.shape)\n",
        "print('x_test shape: ', x_test.shape)\n",
        "print('y_test shape: ', y_test.shape)"
      ]
    },
    {
      "cell_type": "code",
      "execution_count": 18,
      "metadata": {
        "colab": {
          "base_uri": "https://localhost:8080/"
        },
        "id": "tU6U2LGGrPdj",
        "outputId": "333f57b2-9f40-450c-c497-51678468d607"
      },
      "outputs": [
        {
          "name": "stdout",
          "output_type": "stream",
          "text": [
            "      CreditScore    Gender       Age    Tenure   Balance  NumOfProducts  \\\n",
            "1977     0.002858  0.000004  0.000139  0.000004  0.000000       0.000012   \n",
            "3880     0.002698  0.000000  0.000287  0.000032  0.000000       0.000008   \n",
            "52       0.003141  0.000000  0.000132  0.000020  0.000000       0.000008   \n",
            "2551     0.002140  0.000000  0.000211  0.000012  0.000000       0.000004   \n",
            "2246     0.002858  0.000000  0.000155  0.000024  0.000000       0.000008   \n",
            "...           ...       ...       ...       ...       ...            ...   \n",
            "15       0.002455  0.000004  0.000179  0.000012  0.570468       0.000008   \n",
            "9109     0.002714  0.000004  0.000132  0.000040  0.000000       0.000004   \n",
            "9128     0.002762  0.000000  0.000171  0.000004  0.485966       0.000004   \n",
            "4083     0.003388  0.000000  0.000179  0.000016  0.455754       0.000008   \n",
            "3747     0.002411  0.000004  0.000128  0.000036  0.000000       0.000008   \n",
            "\n",
            "      HasCrCard  IsActiveMember  EstimatedSalary  \n",
            "1977   0.000000        0.000000         0.696578  \n",
            "3880   0.000004        0.000004         0.612218  \n",
            "52     0.000000        0.000000         0.466238  \n",
            "2551   0.000004        0.000004         0.364318  \n",
            "2246   0.000004        0.000000         0.371767  \n",
            "...         ...             ...              ...  \n",
            "15     0.000000        0.000004         0.256388  \n",
            "9109   0.000000        0.000000         0.631078  \n",
            "9128   0.000004        0.000000         0.350720  \n",
            "4083   0.000004        0.000004         0.434794  \n",
            "3747   0.000004        0.000004         0.222099  \n",
            "\n",
            "[1000 rows x 9 columns]\n"
          ]
        }
      ],
      "source": [
        "print(x_test)"
      ]
    },
    {
      "cell_type": "code",
      "execution_count": 19,
      "metadata": {
        "colab": {
          "base_uri": "https://localhost:8080/"
        },
        "id": "cFREmlM0kOCg",
        "outputId": "b5829275-0d17-4c23-fefd-ae1fd780a564"
      },
      "outputs": [
        {
          "name": "stdout",
          "output_type": "stream",
          "text": [
            "Akurasi Naive Bayes: 0.793\n",
            "Akurasi Random Forest : 0.861\n",
            "Akurasi KNN: 0.793\n",
            "Laporan Klasifikasi Naive Bayes:\n",
            "               precision    recall  f1-score   support\n",
            "\n",
            "           0       0.81      0.98      0.88       799\n",
            "           1       0.41      0.06      0.11       201\n",
            "\n",
            "    accuracy                           0.79      1000\n",
            "   macro avg       0.61      0.52      0.50      1000\n",
            "weighted avg       0.73      0.79      0.73      1000\n",
            "\n",
            "Laporan Klasifikasi Random Forest:\n",
            "               precision    recall  f1-score   support\n",
            "\n",
            "           0       0.88      0.96      0.92       799\n",
            "           1       0.73      0.48      0.58       201\n",
            "\n",
            "    accuracy                           0.86      1000\n",
            "   macro avg       0.81      0.72      0.75      1000\n",
            "weighted avg       0.85      0.86      0.85      1000\n",
            "\n",
            "Laporan Klasifikasi KNN:\n",
            "               precision    recall  f1-score   support\n",
            "\n",
            "           0       0.80      0.99      0.88       799\n",
            "           1       0.20      0.01      0.02       201\n",
            "\n",
            "    accuracy                           0.79      1000\n",
            "   macro avg       0.50      0.50      0.45      1000\n",
            "weighted avg       0.68      0.79      0.71      1000\n",
            "\n"
          ]
        }
      ],
      "source": [
        "from sklearn.neighbors import KNeighborsClassifier\n",
        "from sklearn.ensemble import RandomForestClassifier\n",
        "from sklearn.naive_bayes import GaussianNB\n",
        "from sklearn.metrics import confusion_matrix\n",
        "from sklearn.metrics import confusion_matrix, roc_curve, auc, classification_report, accuracy_score\n",
        "\n",
        "# Load or prepare your dataset here\n",
        "# x_train, x_test, y_train, y_test = ...\n",
        "\n",
        "#random forest\n",
        "# Defining:\n",
        "rf = RandomForestClassifier(n_estimators=100, random_state=3)\n",
        "# Training:\n",
        "rf.fit(x_train, y_train)\n",
        "# Predicting:\n",
        "y_predrf = rf.predict(x_test)\n",
        "\n",
        "#naive bayes\n",
        "# Defining model:\n",
        "nb = GaussianNB()\n",
        "# Training the model:\n",
        "nb.fit(x_train, y_train)\n",
        "# Predicting:\n",
        "y_prednb = nb.predict(x_test)\n",
        "\n",
        "#knn\n",
        "# Defining the model with a k number of 13:\n",
        "knn = KNeighborsClassifier(n_neighbors=13)\n",
        "# Training the model:\n",
        "knn.fit(x_train, y_train)\n",
        "# Predicting target values by using x_test and our model:\n",
        "y_predknn = knn.predict(x_test)\n",
        "\n",
        "# Evaluate models\n",
        "accuracy_nb = accuracy_score(y_test, y_prednb)\n",
        "accuracy_rf = accuracy_score(y_test, y_predrf)\n",
        "accuracy_knn = accuracy_score(y_test, y_predknn)\n",
        "\n",
        "print(f'Akurasi Naive Bayes: {accuracy_nb}')\n",
        "print(f'Akurasi Random Forest : {accuracy_rf}')\n",
        "print(f'Akurasi KNN: {accuracy_knn}')\n",
        "\n",
        "print(\"Laporan Klasifikasi Naive Bayes:\\n\", classification_report(y_test, y_prednb))\n",
        "print(\"Laporan Klasifikasi Random Forest:\\n\", classification_report(y_test, y_predrf))\n",
        "print(\"Laporan Klasifikasi KNN:\\n\", classification_report(y_test, y_predknn))\n"
      ]
    },
    {
      "cell_type": "code",
      "execution_count": 20,
      "metadata": {
        "colab": {
          "base_uri": "https://localhost:8080/",
          "height": 381
        },
        "id": "AU_NRlMfnVJr",
        "outputId": "9b1a9b59-fa6e-45ab-864a-f8d0def1102c"
      },
      "outputs": [
        {
          "data": {
            "image/png": "[encoded data removed]",
            "text/plain": [
              "<Figure size 1800x500 with 6 Axes>"
            ]
          },
          "metadata": {},
          "output_type": "display_data"
        }
      ],
      "source": [
        "\n",
        "\n",
        "# Confusion Matrix\n",
        "cm_nb = confusion_matrix(y_test, y_prednb)\n",
        "cm_rf = confusion_matrix(y_test, y_predrf)\n",
        "cm_knn = confusion_matrix(y_test, y_predknn)\n",
        "\n",
        "# Plot confusion matrix\n",
        "fig, ax = plt.subplots(1, 3, figsize=(18, 5))\n",
        "\n",
        "sns.heatmap(cm_nb, annot=True, fmt='d', ax=ax[0], cmap='Blues')\n",
        "ax[0].set_title('Confusion Matrix - Naive Bayes')\n",
        "ax[0].set_xlabel('Predicted')\n",
        "ax[0].set_ylabel('Actual')\n",
        "\n",
        "sns.heatmap(cm_rf, annot=True, fmt='d', ax=ax[1], cmap='Blues')\n",
        "ax[1].set_title('Confusion Matrix - Random forest')\n",
        "ax[1].set_xlabel('Predicted')\n",
        "ax[1].set_ylabel('Actual')\n",
        "\n",
        "sns.heatmap(cm_knn, annot=True, fmt='d', ax=ax[2], cmap='Blues')\n",
        "ax[2].set_title('Confusion Matrix - KNN')\n",
        "ax[2].set_xlabel('Predicted')\n",
        "ax[2].set_ylabel('Actual')\n",
        "\n",
        "plt.show()"
      ]
    },
    {
      "cell_type": "code",
      "execution_count": 21,
      "metadata": {
        "colab": {
          "base_uri": "https://localhost:8080/",
          "height": 573
        },
        "id": "hodNNJ6FpxsP",
        "outputId": "56b01991-f1fd-4d17-cf73-3229c7a73b58"
      },
      "outputs": [
        {
          "data": {
            "image/png": "[encoded data removed]",
            "text/plain": [
              "<Figure size 800x600 with 1 Axes>"
            ]
          },
          "metadata": {},
          "output_type": "display_data"
        }
      ],
      "source": [
        "fpr_nb, tpr_nb, _ = roc_curve(y_test, nb.predict_proba(x_test)[:,1])\n",
        "roc_auc_nb = auc(fpr_nb, tpr_nb)\n",
        "\n",
        "fpr_rf, tpr_rf, _ = roc_curve(y_test, rf.predict_proba(x_test)[:,1])\n",
        "roc_auc_rf = auc(fpr_rf, tpr_rf)\n",
        "\n",
        "fpr_knn, tpr_knn, _ = roc_curve(y_test, knn.predict_proba(x_test)[:,1])\n",
        "roc_auc_knn = auc(fpr_knn, tpr_knn)\n",
        "\n",
        "plt.figure(figsize=(8, 6))\n",
        "plt.plot(fpr_nb, tpr_nb, color='darkorange', lw=2, label=f'Naive Bayes (AUC = {roc_auc_nb:.2f})')\n",
        "plt.plot(fpr_rf, tpr_rf, color='blue', lw=2, label=f'Random Forest (AUC = {roc_auc_rf:.2f})')\n",
        "plt.plot(fpr_knn, tpr_knn, color='green', lw=2, label=f'KNN (AUC = {roc_auc_knn:.2f})')\n",
        "plt.plot([0, 1], [0, 1], color='navy', lw=2, linestyle='--')\n",
        "plt.xlim([0.0, 1.0])\n",
        "plt.ylim([0.0, 1.05])\n",
        "plt.xlabel('False Positive Rate')\n",
        "plt.ylabel('True Positive Rate')\n",
        "plt.title('Receiver Operating Characteristic (ROC) Curve')\n",
        "plt.legend(loc='lower right')\n",
        "plt.show()"
      ]
    },
    {
      "cell_type": "code",
      "execution_count": 22,
      "metadata": {
        "colab": {
          "base_uri": "https://localhost:8080/",
          "height": 206
        },
        "id": "zHaQtBb5sCxj",
        "outputId": "66b6fbc8-a084-4fea-c934-b008cfbc3c2c"
      },
      "outputs": [
        {
          "data": {
            "text/html": [
              "<div>\n",
              "<style scoped>\n",
              "    .dataframe tbody tr th:only-of-type {\n",
              "        vertical-align: middle;\n",
              "    }\n",
              "\n",
              "    .dataframe tbody tr th {\n",
              "        vertical-align: top;\n",
              "    }\n",
              "\n",
              "    .dataframe thead th {\n",
              "        text-align: right;\n",
              "    }\n",
              "</style>\n",
              "<table border=\"1\" class=\"dataframe\">\n",
              "  <thead>\n",
              "    <tr style=\"text-align: right;\">\n",
              "      <th></th>\n",
              "      <th>CreditScore</th>\n",
              "      <th>Gender</th>\n",
              "      <th>Age</th>\n",
              "      <th>Tenure</th>\n",
              "      <th>Balance</th>\n",
              "      <th>NumOfProducts</th>\n",
              "      <th>HasCrCard</th>\n",
              "      <th>IsActiveMember</th>\n",
              "      <th>EstimatedSalary</th>\n",
              "    </tr>\n",
              "  </thead>\n",
              "  <tbody>\n",
              "    <tr>\n",
              "      <th>0</th>\n",
              "      <td>0.002467</td>\n",
              "      <td>0.0</td>\n",
              "      <td>0.000167</td>\n",
              "      <td>0.000008</td>\n",
              "      <td>0.000000</td>\n",
              "      <td>0.000004</td>\n",
              "      <td>0.000004</td>\n",
              "      <td>0.000004</td>\n",
              "      <td>0.403944</td>\n",
              "    </tr>\n",
              "    <tr>\n",
              "      <th>1</th>\n",
              "      <td>0.002423</td>\n",
              "      <td>0.0</td>\n",
              "      <td>0.000163</td>\n",
              "      <td>0.000004</td>\n",
              "      <td>0.334031</td>\n",
              "      <td>0.000004</td>\n",
              "      <td>0.000000</td>\n",
              "      <td>0.000004</td>\n",
              "      <td>0.448559</td>\n",
              "    </tr>\n",
              "    <tr>\n",
              "      <th>2</th>\n",
              "      <td>0.002001</td>\n",
              "      <td>0.0</td>\n",
              "      <td>0.000167</td>\n",
              "      <td>0.000032</td>\n",
              "      <td>0.636357</td>\n",
              "      <td>0.000012</td>\n",
              "      <td>0.000004</td>\n",
              "      <td>0.000000</td>\n",
              "      <td>0.454095</td>\n",
              "    </tr>\n",
              "    <tr>\n",
              "      <th>3</th>\n",
              "      <td>0.002786</td>\n",
              "      <td>0.0</td>\n",
              "      <td>0.000155</td>\n",
              "      <td>0.000004</td>\n",
              "      <td>0.000000</td>\n",
              "      <td>0.000008</td>\n",
              "      <td>0.000000</td>\n",
              "      <td>0.000000</td>\n",
              "      <td>0.373963</td>\n",
              "    </tr>\n",
              "    <tr>\n",
              "      <th>4</th>\n",
              "      <td>0.003388</td>\n",
              "      <td>0.0</td>\n",
              "      <td>0.000171</td>\n",
              "      <td>0.000008</td>\n",
              "      <td>0.500246</td>\n",
              "      <td>0.000004</td>\n",
              "      <td>0.000004</td>\n",
              "      <td>0.000004</td>\n",
              "      <td>0.315204</td>\n",
              "    </tr>\n",
              "  </tbody>\n",
              "</table>\n",
              "</div>"
            ],
            "text/plain": [
              "   CreditScore  Gender       Age    Tenure   Balance  NumOfProducts  \\\n",
              "0     0.002467     0.0  0.000167  0.000008  0.000000       0.000004   \n",
              "1     0.002423     0.0  0.000163  0.000004  0.334031       0.000004   \n",
              "2     0.002001     0.0  0.000167  0.000032  0.636357       0.000012   \n",
              "3     0.002786     0.0  0.000155  0.000004  0.000000       0.000008   \n",
              "4     0.003388     0.0  0.000171  0.000008  0.500246       0.000004   \n",
              "\n",
              "   HasCrCard  IsActiveMember  EstimatedSalary  \n",
              "0   0.000004        0.000004         0.403944  \n",
              "1   0.000000        0.000004         0.448559  \n",
              "2   0.000004        0.000000         0.454095  \n",
              "3   0.000000        0.000000         0.373963  \n",
              "4   0.000004        0.000004         0.315204  "
            ]
          },
          "execution_count": 22,
          "metadata": {},
          "output_type": "execute_result"
        }
      ],
      "source": [
        "x.head()"
      ]
    },
    {
      "cell_type": "code",
      "execution_count": 23,
      "metadata": {
        "id": "3OWTSWAEtZXK"
      },
      "outputs": [],
      "source": [
        "fixmodel = RandomForestClassifier(n_estimators=100, random_state=3)  # Change to SVC\n",
        "fixmodel.fit(x_train, y_train)\n",
        "y_predfix = fixmodel.predict(x_test)"
      ]
    },
    {
      "cell_type": "code",
      "execution_count": 24,
      "metadata": {
        "colab": {
          "base_uri": "https://localhost:8080/"
        },
        "id": "8LHAl3aLrF3M",
        "outputId": "1fd7a0f0-e904-4c5b-8df8-465d29e61436"
      },
      "outputs": [
        {
          "name": "stdout",
          "output_type": "stream",
          "text": [
            "[1]\n",
            "Pelanggan Akan keluar\n"
          ]
        },
        {
          "name": "stderr",
          "output_type": "stream",
          "text": [
            "c:\\Users\\rosyi\\anaconda3\\envs\\dateng\\Lib\\site-packages\\sklearn\\base.py:493: UserWarning: X does not have valid feature names, but RandomForestClassifier was fitted with feature names\n",
            "  warnings.warn(\n"
          ]
        }
      ],
      "source": [
        "import numpy as np\n",
        "\n",
        "input_data = (712,\t1,\t32,\t9,\t100606.02,\t1,\t1,\t0,\t165693.06)\n",
        "\n",
        "input_data_as_numpy_array = np.array(input_data)\n",
        "\n",
        "input_data_reshape = input_data_as_numpy_array.reshape(1, -1)\n",
        "\n",
        "\n",
        "prediction = fixmodel.predict(input_data_reshape)\n",
        "print(prediction)\n",
        "\n",
        "if (prediction[0] == 0):\n",
        "    print('Pelanggan akan tetap bertahan')\n",
        "else:\n",
        "    print('Pelanggan Akan keluar')"
      ]
    },
    {
      "cell_type": "code",
      "execution_count": 25,
      "metadata": {
        "id": "VRk8QZpvTujW"
      },
      "outputs": [],
      "source": [
        "import pickle"
      ]
    },
    {
      "cell_type": "code",
      "execution_count": 26,
      "metadata": {
        "id": "2vUi-wRsTwN6"
      },
      "outputs": [],
      "source": [
        "filename = 'pelanggan_model.sav'\n",
        "pickle.dump(fixmodel,open(filename,'wb'))"
      ]
    }
  ],
  "metadata": {
    "colab": {
      "provenance": []
    },
    "kernelspec": {
      "display_name": "Python 3",
      "name": "python3"
    },
    "language_info": {
      "codemirror_mode": {
        "name": "ipython",
        "version": 3
      },
      "file_extension": ".py",
      "mimetype": "text/x-python",
      "name": "python",
      "nbconvert_exporter": "python",
      "pygments_lexer": "ipython3",
      "version": "3.12.4"
    }
  },
  "nbformat": 4,
  "nbformat_minor": 0
}
